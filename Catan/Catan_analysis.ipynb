{
 "cells": [
  {
   "cell_type": "code",
   "execution_count": 17,
   "id": "67496e9e",
   "metadata": {},
   "outputs": [],
   "source": [
    "import pandas as pd\n",
    "import re"
   ]
  },
  {
   "cell_type": "code",
   "execution_count": 2,
   "id": "f18b13d6",
   "metadata": {},
   "outputs": [
    {
     "name": "stdout",
     "output_type": "stream",
     "text": [
      "     gameNum  player  points   me  2  3  4  5   6   7  ...  Unnamed: 26  \\\n",
      "0          1       1       5  NaN  1  3  5  8   7  10  ...            O   \n",
      "1          1       2       9  1.0  1  3  5  8   7  10  ...            O   \n",
      "2          1       3      10  NaN  1  3  5  8   7  10  ...            C   \n",
      "3          1       4       5  NaN  1  3  5  8   7  10  ...            S   \n",
      "4          2       1      10  NaN  1  6  3  9  10   8  ...           2L   \n",
      "..       ...     ...     ...  ... .. .. .. ..  ..  ..  ...          ...   \n",
      "195       49       4       5  NaN  0  5  3  6  13  13  ...            S   \n",
      "196       50       1       5  NaN  1  7  4  5   7  17  ...            C   \n",
      "197       50       2      10  1.0  1  7  4  5   7  17  ...            C   \n",
      "198       50       3       4  NaN  1  7  4  5   7  17  ...            S   \n",
      "199       50       4       8  NaN  1  7  4  5   7  17  ...            C   \n",
      "\n",
      "     production  tradeGain  robberCardsGain  totalGain  tradeLoss  \\\n",
      "0            38          5                2         45         10   \n",
      "1            48          8                6         62         11   \n",
      "2            44         14                9         67         24   \n",
      "3            42         12                0         54         24   \n",
      "4            60         15               16         91         28   \n",
      "..          ...        ...              ...        ...        ...   \n",
      "195          41          8               11         60         22   \n",
      "196          41          6                7         54         14   \n",
      "197          64          5                9         78         15   \n",
      "198          44          7                4         55         22   \n",
      "199          57          3                5         65          2   \n",
      "\n",
      "    robberCardsLoss  tribute totalLoss  totalAvailable  \n",
      "0                 2        4        16              29  \n",
      "1                 1        8        20              42  \n",
      "2                 4        0        28              39  \n",
      "3                 6        0        30              24  \n",
      "4                10        0        38              53  \n",
      "..              ...      ...       ...             ...  \n",
      "195               4        0        26              34  \n",
      "196               6        4        24              30  \n",
      "197               6       10        31              47  \n",
      "198               1        8        31              24  \n",
      "199              12        8        22              43  \n",
      "\n",
      "[200 rows x 36 columns]\n"
     ]
    }
   ],
   "source": [
    "df = pd.read_csv('C:/Users/RTCNO00041/Downloads/catanstats.csv')\n",
    "print(df)"
   ]
  },
  {
   "cell_type": "code",
   "execution_count": 3,
   "id": "2b5d696e",
   "metadata": {},
   "outputs": [
    {
     "name": "stdout",
     "output_type": "stream",
     "text": [
      "<bound method NDFrame.describe of      gameNum  player  points   me  2  3  4  5   6   7  ...  robberCardsLoss  \\\n",
      "0          1       1       5  NaN  1  3  5  8   7  10  ...                2   \n",
      "1          1       2       9  1.0  1  3  5  8   7  10  ...                1   \n",
      "2          1       3      10  NaN  1  3  5  8   7  10  ...                4   \n",
      "3          1       4       5  NaN  1  3  5  8   7  10  ...                6   \n",
      "4          2       1      10  NaN  1  6  3  9  10   8  ...               10   \n",
      "..       ...     ...     ...  ... .. .. .. ..  ..  ..  ...              ...   \n",
      "195       49       4       5  NaN  0  5  3  6  13  13  ...                4   \n",
      "196       50       1       5  NaN  1  7  4  5   7  17  ...                6   \n",
      "197       50       2      10  1.0  1  7  4  5   7  17  ...                6   \n",
      "198       50       3       4  NaN  1  7  4  5   7  17  ...                1   \n",
      "199       50       4       8  NaN  1  7  4  5   7  17  ...               12   \n",
      "\n",
      "     tribute  totalLoss  totalAvailable  S1R1  S1R2 S1R3  S2R1 S2R2  S2R3  \n",
      "0          4         16              29    6L    3C  11C    9L  10W   11O  \n",
      "1          8         20              42    5W    8O  10W    4L   5S   11O  \n",
      "2          0         28              39    5S    6S  12W    8O   4S    3C  \n",
      "3          0         30              24    6O    9L   3L    4L   8L   10S  \n",
      "4          0         38              53    6W    9O  10O    8W  10L   02L  \n",
      "..       ...        ...             ...   ...   ...  ...   ...  ...   ...  \n",
      "195        0         26              34    8S    4W   3O    4L   5C   11S  \n",
      "196        4         24              30    6O    9W  10L    5C   6O   11C  \n",
      "197       10         31              47    8L    4C   3W    4S   9O   11C  \n",
      "198        8         31              24    5C    8L  10L    5S   9O    2S  \n",
      "199        8         22              43    3W    9O  10S    3L   4S    5C  \n",
      "\n",
      "[200 rows x 42 columns]>\n"
     ]
    }
   ],
   "source": [
    "# Lets clean the data, we have two many columns, S1R1 = Settlement1, Resource1\n",
    "df['S1R1'] = (df['settlement1'].astype(str) + df['Unnamed: 16'].astype(str)).str.replace('\\n', '')\n",
    "df['S1R2'] = (df['Unnamed: 17'].astype(str) + df['Unnamed: 18'].astype(str)).str.replace('\\n', '')\n",
    "df['S1R3'] = (df['Unnamed: 19'].astype(str) + df['Unnamed: 20'].astype(str)).str.replace('\\n', '')\n",
    "df['S2R1'] = (df['settlement2'].astype(str) + df['Unnamed: 22'].astype(str)).str.replace('\\n', '')\n",
    "df['S2R2'] = (df['Unnamed: 23'].astype(str) + df['Unnamed: 24'].astype(str)).str.replace('\\n', '')\n",
    "df['S2R3'] = (df['Unnamed: 25'].astype(str) + df['Unnamed: 26'].astype(str)).str.replace('\\n', '')\n",
    "\n",
    "# Get rid of old columns\n",
    "# df.drop(columns=['settlement1','settlement2','Unnamed: 17','Unnamed: 18','Unnamed: 19','Unnamed: 20','Unnamed: 22','Unnamed: 23','Unnamed: 24','Unnamed: 25','Unnamed: 26'])\n",
    "\n",
    "\n",
    "# I want to change the naming\n",
    "# L lumber -> W wood\n",
    "# C Clay -> B Brick\n",
    "# O Ore -> R Rock\n",
    "# W Wheat -> WH\n",
    "# S Sheep\n",
    "\n",
    "df[['S1R1',\"S1R2\",\"S1R3\",\"S2R1\",\"S2R2\",\"S2R3\"]] = df[['S1R1',\"S1R2\",\"S1R3\",\"S2R1\",\"S2R2\",\"S2R3\"]].replace({'L': 'W', 'C': 'B', 'O': 'R', 'W': 'WH', 'S': 'Sheep'}).astype(str)\n",
    "print(df.describe)\n",
    "\n"
   ]
  },
  {
   "cell_type": "code",
   "execution_count": 4,
   "id": "5da85dd4",
   "metadata": {},
   "outputs": [
    {
     "name": "stdout",
     "output_type": "stream",
     "text": [
      "23\n",
      "50\n",
      "0.46\n"
     ]
    }
   ],
   "source": [
    "# We have no player info, except for that \"Me\" column. Lets see if this person won atleast 25% of the time. We ideally want players of equal caliber. Note that 50 sample size is low to achieve a true skill rating\n",
    "Games_won = len(df[(df['points'] == 10) & (df['me'] == 1)])\n",
    "Games_played = len(df[df['me'] == 1])\n",
    "print(Games_won)\n",
    "print(Games_played)\n",
    "print(Games_won / Games_played)\n",
    "\n",
    "# He won almost half the games, which is pretty high"
   ]
  },
  {
   "cell_type": "code",
   "execution_count": 12,
   "id": "073ae086",
   "metadata": {},
   "outputs": [
    {
     "data": {
      "text/plain": [
       "(6L, 3C, 11C, 9L, 10W, 11O)    1\n",
       "(5O, 8C, 10S, 6W, 9W, 3W)      1\n",
       "(5L, 8S, 10W, 8C, 10L, 02W)    1\n",
       "(6C, 9W, 10L, 8O, 4L, 02C)     1\n",
       "(5L, 9O, 10S, 6C, 3S, 12W)     1\n",
       "                              ..\n",
       "(5O, 8C, 10C, 6S, 3W, 11L)     1\n",
       "(8C, 4W, 02S, 5L, 6S, 12S)     1\n",
       "(6L, 9S, 3W, 5L, 9C, 10O)      1\n",
       "(5O, 9W, 10W, 3O, 10L, 11C)    1\n",
       "(3W, 9O, 10S, 3L, 4S, 5C)      1\n",
       "Length: 200, dtype: int64"
      ]
     },
     "execution_count": 12,
     "metadata": {},
     "output_type": "execute_result"
    }
   ],
   "source": [
    "# For all games who won, what was there settlement resource combinations?\n",
    "winners = df[df['points'] == 10]\n",
    "\n",
    "# First, lets ignore the numbers for the most part and look at the resource\n",
    "df[['S1R1',\"S1R2\",\"S1R3\",\"S2R1\",\"S2R2\",\"S2R3\"]].apply(tuple, axis=1).value_counts()\n",
    "\n",
    "# We have too many combinations of starting positions.\n",
    "# We can look at the number but that doesnt depict strategy\n",
    "# We can look at the suit but that doesnt give info on the numbers\n",
    "# What we can do is group the numbers into categories (high, medium, low) to be able to look at fewer combinations\n"
   ]
  },
  {
   "cell_type": "code",
   "execution_count": 18,
   "id": "2fa5e5e7",
   "metadata": {},
   "outputs": [
    {
     "data": {
      "text/plain": [
       "(Medium, High, Medium, Medium, Medium, Low)    21\n",
       "(Medium, High, Medium, High, Medium, Low)      18\n",
       "(High, Medium, Low, Medium, Medium, Low)       11\n",
       "(Medium, High, Medium, High, Low, Low)         10\n",
       "(Medium, Medium, Medium, High, Medium, Low)    10\n",
       "(High, Medium, Low, Medium, High, Medium)       9\n",
       "(High, Medium, Low, High, Medium, Low)          8\n",
       "(Medium, High, Low, Medium, Medium, Low)        6\n",
       "(Medium, Medium, Low, High, Medium, Low)        5\n",
       "(Medium, Medium, Medium, High, Low, Low)        5\n",
       "dtype: int64"
      ]
     },
     "execution_count": 18,
     "metadata": {},
     "output_type": "execute_result"
    }
   ],
   "source": [
    "# Define a custom function to map strings to categories\n",
    "def map_to_category(value):\n",
    "    # Use regular expressions to extract the numeric part from the string\n",
    "    numeric_part_match = re.search(r'^(\\d+)', value)\n",
    "    \n",
    "    if numeric_part_match:\n",
    "        numeric_part = int(numeric_part_match.group(1))\n",
    "        if numeric_part in [6, 8]:\n",
    "            return 'High'\n",
    "        elif numeric_part in [4, 5, 9, 10]:\n",
    "            return 'Medium'\n",
    "        elif numeric_part in [1, 2, 11, 3]:\n",
    "            return 'Low'\n",
    "    \n",
    "    return 'Unknown'  # Handle unexpected values if any\n",
    "\n",
    "columns_to_map = ['S1R1',\"S1R2\",\"S1R3\",\"S2R1\",\"S2R2\",\"S2R3\"]\n",
    "\n",
    "for column in columns_to_map:\n",
    "    df[column + '_amount'] = df[column].apply(map_to_category)\n",
    "\n",
    "df[['S1R1_amount',\"S1R2_amount\",\"S1R3_amount\",\"S2R1_amount\",\"S2R2_amount\",\"S2R3_amount\"]].apply(tuple, axis=1).value_counts().head(10)\n",
    "\n",
    "# Made a mistake and forgot about the resource, but it is interesting to see that the top 2 winning combinations are significantly higher\n",
    "# We can see an obvious pattern that they only have one Low number between both settlements. \n",
    "# That is a bit daunting as it means theres a high weight on map availability as a pose to skill.\n",
    "\n",
    "# Conclusion, try not to have two numbers in the list [1, 2, 11, 3]\n",
    "# Sidenote: sample size too small to be sure\n"
   ]
  }
 ],
 "metadata": {
  "kernelspec": {
   "display_name": "Python 3",
   "language": "python",
   "name": "python3"
  },
  "language_info": {
   "codemirror_mode": {
    "name": "ipython",
    "version": 3
   },
   "file_extension": ".py",
   "mimetype": "text/x-python",
   "name": "python",
   "nbconvert_exporter": "python",
   "pygments_lexer": "ipython3",
   "version": "3.11.1"
  }
 },
 "nbformat": 4,
 "nbformat_minor": 5
}
